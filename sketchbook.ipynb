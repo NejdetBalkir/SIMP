{
 "cells": [
  {
   "cell_type": "code",
   "execution_count": 1,
   "metadata": {},
   "outputs": [
    {
     "name": "stdout",
     "output_type": "stream",
     "text": [
      "[-8 -7 -4 -3 -2 -1 -6 -5]\n"
     ]
    }
   ],
   "source": [
    "import numpy as np\n",
    "\n",
    "nelx = 1\n",
    "nely = 1\n",
    "penal = 3\n",
    "\n",
    "for ely in range(0,nely):\n",
    "            for elx in range(0,nelx):\n",
    "                n1 = (nely+1)*(elx-1)+ely-1 # index of upper left corner of the element\n",
    "                n2 = (nely+1)* elx + ely-1  # index of upper right corner of the element\n",
    "                edof = np.array([2*n1-2, 2*n1-1, 2*n2-2, 2*n2-1, 2*n2, 2*n2+1, 2*n1, 2*n1+1])\n",
    "                print(edof)"
   ]
  },
  {
   "cell_type": "code",
   "execution_count": 2,
   "metadata": {},
   "outputs": [
    {
     "name": "stdout",
     "output_type": "stream",
     "text": [
      "elx: 0\n",
      "ely: 0\n",
      "n1: 0\n",
      "n2: 2\n",
      "edof: [0 1 4 5 6 7 2 3]\n",
      "  (0, 0)\t0.06181318681318681\n",
      "  (0, 1)\t0.02232142857142857\n",
      "  (0, 2)\t0.006868131868131867\n",
      "  (0, 3)\t0.0017170329670329683\n",
      "  (0, 4)\t-0.03777472527472527\n",
      "  (0, 5)\t-0.0017170329670329683\n",
      "  (0, 6)\t-0.030906593406593404\n",
      "  (0, 7)\t-0.02232142857142857\n",
      "  (1, 0)\t0.02232142857142857\n",
      "  (1, 1)\t0.06181318681318681\n",
      "  (1, 2)\t-0.0017170329670329683\n",
      "  (1, 3)\t-0.03777472527472527\n",
      "  (1, 4)\t0.0017170329670329683\n",
      "  (1, 5)\t0.006868131868131867\n",
      "  (1, 6)\t-0.02232142857142857\n",
      "  (1, 7)\t-0.030906593406593404\n",
      "  (2, 0)\t0.006868131868131867\n",
      "  (2, 1)\t-0.0017170329670329683\n",
      "  (2, 2)\t0.06181318681318681\n",
      "  (2, 3)\t-0.02232142857142857\n",
      "  (2, 4)\t-0.030906593406593404\n",
      "  (2, 5)\t0.02232142857142857\n",
      "  (2, 6)\t-0.03777472527472527\n",
      "  (2, 7)\t0.0017170329670329683\n",
      "  (3, 0)\t0.0017170329670329683\n",
      "  :\t:\n",
      "  (4, 7)\t-0.0017170329670329683\n",
      "  (5, 0)\t-0.0017170329670329683\n",
      "  (5, 1)\t0.006868131868131867\n",
      "  (5, 2)\t0.02232142857142857\n",
      "  (5, 3)\t-0.030906593406593404\n",
      "  (5, 4)\t-0.02232142857142857\n",
      "  (5, 5)\t0.06181318681318681\n",
      "  (5, 6)\t0.0017170329670329683\n",
      "  (5, 7)\t-0.03777472527472527\n",
      "  (6, 0)\t-0.030906593406593404\n",
      "  (6, 1)\t-0.02232142857142857\n",
      "  (6, 2)\t-0.03777472527472527\n",
      "  (6, 3)\t-0.0017170329670329683\n",
      "  (6, 4)\t0.006868131868131867\n",
      "  (6, 5)\t0.0017170329670329683\n",
      "  (6, 6)\t0.06181318681318681\n",
      "  (6, 7)\t0.02232142857142857\n",
      "  (7, 0)\t-0.02232142857142857\n",
      "  (7, 1)\t-0.030906593406593404\n",
      "  (7, 2)\t0.0017170329670329683\n",
      "  (7, 3)\t0.006868131868131867\n",
      "  (7, 4)\t-0.0017170329670329683\n",
      "  (7, 5)\t-0.03777472527472527\n",
      "  (7, 6)\t0.02232142857142857\n",
      "  (7, 7)\t0.06181318681318681\n"
     ]
    },
    {
     "name": "stderr",
     "output_type": "stream",
     "text": [
      "/Library/Frameworks/Python.framework/Versions/3.11/lib/python3.11/site-packages/scipy/sparse/_index.py:143: SparseEfficiencyWarning: Changing the sparsity structure of a csr_matrix is expensive. lil_matrix is more efficient.\n",
      "  self._set_arrayXarray(i, j, x)\n"
     ]
    }
   ],
   "source": [
    "from stiffness import stiffness \n",
    "from scipy.sparse import csr_matrix\n",
    "\n",
    "K = csr_matrix((2*(nelx+1)*(nely+1), 2*(nelx+1)*(nely+1)))\n",
    "KE = stiffness()\n",
    "volfrac = 0.5\n",
    "x = volfrac * np.ones((nely,nelx))\n",
    "for elx in range(0, nelx):\n",
    "    for ely in range(0, nely):\n",
    "        print('elx:',elx)\n",
    "        print('ely:',ely)\n",
    "        n1 = (nely+1)*(elx) + ely\n",
    "        n2 = (nely+1)*(elx+1) + ely\n",
    "        print('n1:',n1)\n",
    "        print('n2:',n2)\n",
    "        edof = np.array([2*n1, 2*n1+1, 2*n2, 2*n2+1, 2*n2+2, 2*n2+3, 2*n1+2, 2*n1+3])\n",
    "        print('edof:',edof)\n",
    "        K[edof[:, None], edof] = K[edof[:, None], edof] + x[ely, elx]**penal * KE\n",
    "        print(K) \n",
    "\n"
   ]
  },
  {
   "cell_type": "code",
   "execution_count": 9,
   "metadata": {},
   "outputs": [
    {
     "name": "stdout",
     "output_type": "stream",
     "text": [
      "F:   (0, 0)\t-1.0\n",
      "fixeddofs: [0 1 2 3]\n",
      "alldofs: [0 1 2 3 4 5 6 7]\n",
      "freedofs: [4 5 6 7]\n"
     ]
    },
    {
     "name": "stderr",
     "output_type": "stream",
     "text": [
      "/Library/Frameworks/Python.framework/Versions/3.11/lib/python3.11/site-packages/scipy/sparse/_index.py:143: SparseEfficiencyWarning: Changing the sparsity structure of a csr_matrix is expensive. lil_matrix is more efficient.\n",
      "  self._set_arrayXarray(i, j, x)\n"
     ]
    }
   ],
   "source": [
    "F = csr_matrix((2*(nely+1)*(nelx+1), 1))\n",
    "F[0] = -1\n",
    "# fixeddofs = np.union1d(np.arange(0, 2*(nely+1), 1))\n",
    "fixeddofs = np.arange(0, 2*(nely+1), 1)\n",
    "alldofs = np.arange(0, 2*(nely+1)*(nelx+1))\n",
    "freedofs = np.setdiff1d(alldofs, fixeddofs)\n",
    "\n",
    "print('F:',F)\n",
    "\n",
    "print('fixeddofs:',fixeddofs)\n",
    "print('alldofs:',alldofs)\n",
    "print('freedofs:',freedofs)"
   ]
  },
  {
   "cell_type": "code",
   "execution_count": 4,
   "metadata": {},
   "outputs": [
    {
     "data": {
      "text/plain": [
       "array([0, 2, 4, 6])"
      ]
     },
     "execution_count": 4,
     "metadata": {},
     "output_type": "execute_result"
    }
   ],
   "source": [
    "np.arange(0, 2*(nely+1)*(nelx+1), 2)"
   ]
  },
  {
   "cell_type": "code",
   "execution_count": 1,
   "metadata": {},
   "outputs": [
    {
     "data": {
      "image/png": "[encoded data removed]",
      "text/plain": [
       "<Figure size 640x480 with 1 Axes>"
      ]
     },
     "metadata": {},
     "output_type": "display_data"
    }
   ],
   "source": [
    "import numpy as np\n",
    "import matplotlib.pyplot as plt\n",
    "\n",
    "# Example matrix x\n",
    "x = np.random.rand(10, 10)  # Replace this with your actual matrix\n",
    "\n",
    "# Plot the matrix\n",
    "plt.imshow(-x, cmap='gray', aspect='equal')\n",
    "plt.axis('off')  # Turn off axis\n",
    "plt.tight_layout()  # Tight layout to minimize padding\n",
    "plt.pause(1e-6)  # Pause for a brief moment\n",
    "plt.show()  # Display the plot"
   ]
  }
 ],
 "metadata": {
  "kernelspec": {
   "display_name": "Python 3",
   "language": "python",
   "name": "python3"
  },
  "language_info": {
   "codemirror_mode": {
    "name": "ipython",
    "version": 3
   },
   "file_extension": ".py",
   "mimetype": "text/x-python",
   "name": "python",
   "nbconvert_exporter": "python",
   "pygments_lexer": "ipython3",
   "version": "3.11.5"
  }
 },
 "nbformat": 4,
 "nbformat_minor": 2
}
